{
 "cells": [
  {
   "cell_type": "markdown",
   "id": "8f4d3550",
   "metadata": {
    "id": "8f4d3550"
   },
   "source": [
    "# Listing 6.1 Rename"
   ]
  },
  {
   "cell_type": "code",
   "execution_count": 1,
   "id": "809009f8",
   "metadata": {
    "colab": {
     "base_uri": "https://localhost:8080/",
     "height": 530
    },
    "executionInfo": {
     "elapsed": 796,
     "status": "error",
     "timestamp": 1722526531340,
     "user": {
      "displayName": "Suvoraj Biswas",
      "userId": "17327673759872688056"
     },
     "user_tz": 300
    },
    "id": "809009f8",
    "outputId": "b07a417b-244c-4122-de10-a71c013cf9c0"
   },
   "outputs": [
    {
     "name": "stdout",
     "output_type": "stream",
     "text": [
      "        FIRST NAME   YOB ENROLL DESIGNATE   DT ACCEPT CG    CTY      DT CHG  \\\n",
      "0      Eula Vitolo  1913      R             12/5/1935  2  01AND  11/26/2008   \n",
      "1   Walton Santoyo  1918      R              9/8/1947  2  01AND   5/22/2008   \n",
      "2   Aletha Stabile  1925      D            10/14/1952  2  01AND   5/17/2010   \n",
      "3   Nannette Thong  1928      D             11/8/2005  2  01AND   4/25/2012   \n",
      "4  Courtney Bonner  1929      R            10/20/2009  2  01AND   6/13/2012   \n",
      "\n",
      "  DT LAST VPH  \n",
      "0              \n",
      "1   6/10/2008  \n",
      "2   11/2/2010  \n",
      "3   11/4/2008  \n",
      "4   6/14/2016  \n",
      "          FIRST NAME Year Of Birth Enrollment Code Special Designations  \\\n",
      "0        Eula Vitolo          1913               R                        \n",
      "1     Walton Santoyo          1918               R                        \n",
      "2     Aletha Stabile          1925               D                        \n",
      "3     Nannette Thong          1928               D                        \n",
      "4    Courtney Bonner          1929               R                        \n",
      "..               ...           ...             ...                  ...   \n",
      "95        Erick Roth          1981               U                        \n",
      "96  Francesco Pharis          1981               U                        \n",
      "97        Eddy Shoop          1981               U                        \n",
      "98   Quintin Speegle          1982               D                        \n",
      "99   Mervin Margolis          1982               D                        \n",
      "\n",
      "     DT ACCEPT Congressional District County ID      DT CHG DT LAST VPH  \n",
      "0    12/5/1935                      2     01AND  11/26/2008              \n",
      "1     9/8/1947                      2     01AND   5/22/2008   6/10/2008  \n",
      "2   10/14/1952                      2     01AND   5/17/2010   11/2/2010  \n",
      "3    11/8/2005                      2     01AND   4/25/2012   11/4/2008  \n",
      "4   10/20/2009                      2     01AND   6/13/2012   6/14/2016  \n",
      "..         ...                    ...       ...         ...         ...  \n",
      "95   4/28/2004                      2     01AND   3/11/2011              \n",
      "96   10/4/2004                      2     01AND  11/14/2006   11/4/2014  \n",
      "97   11/4/2008                      2     01AND  12/30/2009   11/4/2008  \n",
      "98    3/7/2000                      2     01AND  12/31/2005   11/6/2012  \n",
      "99   11/7/2006                      2     01AND  11/12/2008   11/6/2012  \n",
      "\n",
      "[100 rows x 9 columns]\n",
      "DataFrame with labeled columns:\n",
      "FIRST NAME\n",
      "Year Of Birth\n",
      "Enrollment Code\n",
      "Special Designations\n",
      "DT ACCEPT\n",
      "Congressional District\n",
      "County ID\n",
      "DT CHG\n",
      "DT LAST VPH\n"
     ]
    }
   ],
   "source": [
    "import pandas as pd\n",
    "\n",
    "\n",
    "df = pd.read_csv('../Datasets/Chapter 6/Voters_A.csv')\n",
    "print(df.head())\n",
    "\n",
    "df = df.rename(columns={\n",
    "    'FIRST_NAME': 'Name',\n",
    "    'YOB': 'Year Of Birth',\n",
    "    'ENROLL': 'Enrollment Code',\n",
    "    'DESIGNATE': 'Special Designations',\n",
    "    'DT_ACCEPT': 'Date Accepted (Date of Registration)',\n",
    "    'CG': 'Congressional District',\n",
    "    'CTY': 'County ID',\n",
    "    'DT_CHG': 'Date Changed',\n",
    "    'DT_LAST_VPH': 'Date Of Last Statewide Election with VPH'\n",
    "})\n",
    "\n",
    "\n",
    "print(df)\n",
    "\n",
    "\n",
    "print(\"DataFrame with labeled columns:\")\n",
    "for column in df.columns:\n",
    "    print(column)\n",
    "\n",
    "# df.to_csv('voters_labeled.csv', index=False)\n"
   ]
  },
  {
   "cell_type": "markdown",
   "id": "60fc32cf",
   "metadata": {
    "id": "60fc32cf"
   },
   "source": [
    "# Listing 6.2 Format"
   ]
  },
  {
   "cell_type": "code",
   "execution_count": 3,
   "id": "fdf6f908",
   "metadata": {
    "colab": {
     "base_uri": "https://localhost:8080/"
    },
    "executionInfo": {
     "elapsed": 177,
     "status": "ok",
     "timestamp": 1722526992950,
     "user": {
      "displayName": "Suvoraj Biswas",
      "userId": "17327673759872688056"
     },
     "user_tz": 300
    },
    "id": "fdf6f908",
    "outputId": "100abf54-b19b-4404-d1b6-d0216a2a9aa0"
   },
   "outputs": [
    {
     "name": "stdout",
     "output_type": "stream",
     "text": [
      "Datatypes of raw data:\n",
      "\n",
      " PatientID         int64\n",
      "Age               int64\n",
      "ArrivingDate     object\n",
      "ArrivingTime     object\n",
      "LeavingDate      object\n",
      "LeavingTime      object\n",
      "VisitFees       float64\n",
      "dtype: object\n",
      "\n",
      "Header of the original dataset:( 7 columns)\n",
      "\n",
      "    PatientID  Age ArrivingDate ArrivingTime LeavingDate LeavingTime  VisitFees\n",
      "0          1   25   2024-06-10        09:00  2024-06-10       10:00     100.00\n",
      "1          2   34   2024-06-11        10:30  2024-06-11       11:15     150.75\n",
      "2          3   50   2024-06-12        14:45  2024-06-12       15:30     200.50\n",
      "\n",
      "Computing the visit duration:\n",
      "\n",
      "     VisitDuration     LeavingDateTime    ArrivingDateTime\n",
      "0 0 days 01:00:00 2024-06-10 10:00:00 2024-06-10 09:00:00\n",
      "1 0 days 00:45:00 2024-06-11 11:15:00 2024-06-11 10:30:00\n",
      "2 0 days 00:45:00 2024-06-12 15:30:00 2024-06-12 14:45:00\n",
      "\n",
      "Clinic Visit Report:\n",
      "\n",
      "    PatientID  Age FormattedDuration FormattedFees\n",
      "0          1   25             1h 0m       $100.00\n",
      "1          2   34            0h 45m       $150.75\n",
      "2          3   50            0h 45m       $200.50\n"
     ]
    }
   ],
   "source": [
    "import pandas as pd\n",
    "from datetime import datetime\n",
    "\n",
    "data = {\n",
    "    'PatientID': [1, 2, 3],\n",
    "    'Age': [25, 34, 50],\n",
    "    'ArrivingDate': ['2024-06-10', '2024-06-11', '2024-06-12'],\n",
    "    'ArrivingTime': ['09:00', '10:30', '14:45'],\n",
    "    'LeavingDate': ['2024-06-10', '2024-06-11', '2024-06-12'],\n",
    "    'LeavingTime': ['10:00', '11:15', '15:30'],\n",
    "    'VisitFees': [100.0, 150.75, 200.5]\n",
    "}\n",
    "\n",
    "df = pd.DataFrame(data)\n",
    "print(\"Datatypes of raw data:\")\n",
    "print(\"\\n\",df.dtypes)\n",
    "print(\"\\nHeader of the original dataset:(\",len(df.columns),\"columns)\")\n",
    "print(\"\\n\",df.head())\n",
    "\n",
    "df['ArrivingDateTime'] = pd.to_datetime(df['ArrivingDate'] + ' ' + df['ArrivingTime'])\n",
    "df['LeavingDateTime'] = pd.to_datetime(df['LeavingDate'] + ' ' + df['LeavingTime'])\n",
    "\n",
    "df['VisitDuration'] = df['LeavingDateTime'] - df['ArrivingDateTime']\n",
    "\n",
    "dummy=df[['VisitDuration', 'LeavingDateTime', 'ArrivingDateTime']]\n",
    "print(\"\\nComputing the visit duration:\")\n",
    "print(\"\\n\",dummy.head())\n",
    "\n",
    "def format_duration(duration):\n",
    "    seconds = duration.total_seconds()\n",
    "    hours = int(seconds // 3600)\n",
    "    minutes = int((seconds % 3600) // 60)\n",
    "    return f\"{hours}h {minutes}m\"\n",
    "\n",
    "def format_fees(fees):\n",
    "    return '${:,.2f}'.format(fees)\n",
    "\n",
    "print(\"\\nClinic Visit Report:\")\n",
    "\n",
    "df['FormattedDuration'] = df['VisitDuration'].apply(format_duration)\n",
    "df['FormattedFees'] = df['VisitFees'].apply(format_fees)\n",
    "print(\"\\n\", df[['PatientID', 'Age', 'FormattedDuration', 'FormattedFees']])\n"
   ]
  },
  {
   "cell_type": "markdown",
   "id": "b323de17",
   "metadata": {
    "id": "b323de17"
   },
   "source": [
    "# Listing 6.3 New Variables"
   ]
  },
  {
   "cell_type": "code",
   "execution_count": 2,
   "id": "a810a539",
   "metadata": {
    "colab": {
     "base_uri": "https://localhost:8080/",
     "height": 530
    },
    "executionInfo": {
     "elapsed": 162,
     "status": "error",
     "timestamp": 1722527017421,
     "user": {
      "displayName": "Suvoraj Biswas",
      "userId": "17327673759872688056"
     },
     "user_tz": 300
    },
    "id": "a810a539",
    "outputId": "bbc7d4f7-9729-466c-efe3-a9a2c2fad2a4"
   },
   "outputs": [
    {
     "name": "stdout",
     "output_type": "stream",
     "text": [
      "Dataframe Shape (rows, columns): (100, 9)\n",
      "\n",
      "Raw data-first 5 rows:\n",
      "         FIRST NAME   YOB ENROLL DESIGNATE   DT ACCEPT CG    CTY      DT CHG  \\\n",
      "0      Eula Vitolo  1913      R             12/5/1935  2  01AND  11/26/2008   \n",
      "1   Walton Santoyo  1918      R              9/8/1947  2  01AND   5/22/2008   \n",
      "2   Aletha Stabile  1925      D            10/14/1952  2  01AND   5/17/2010   \n",
      "3   Nannette Thong  1928      D             11/8/2005  2  01AND   4/25/2012   \n",
      "4  Courtney Bonner  1929      R            10/20/2009  2  01AND   6/13/2012   \n",
      "\n",
      "  DT LAST VPH  \n",
      "0              \n",
      "1   6/10/2008  \n",
      "2   11/2/2010  \n",
      "3   11/4/2008  \n",
      "4   6/14/2016  \n",
      "\n",
      "Datatypes of raw data:\n",
      "\n",
      "\n",
      " FIRST NAME     object\n",
      "YOB            object\n",
      "ENROLL         object\n",
      "DESIGNATE      object\n",
      "DT ACCEPT      object\n",
      "CG             object\n",
      "CTY            object\n",
      "DT CHG         object\n",
      "DT LAST VPH    object\n",
      "dtype: object\n",
      "\n",
      "Datatypes after typecasting:\n",
      "\n",
      "\n",
      " FIRST NAME      object\n",
      "YOB             object\n",
      "ENROLL          object\n",
      "DESIGNATE       object\n",
      "DT ACCEPT       object\n",
      "CG              object\n",
      "CTY             object\n",
      "DT CHG          object\n",
      "DT LAST VPH     object\n",
      "YOB_numeric    float64\n",
      "dtype: object\n",
      "\n",
      "age:\n",
      " 0    111.0\n",
      "1    106.0\n",
      "2     99.0\n",
      "3     96.0\n",
      "4     95.0\n",
      "Name: YOB_numeric, dtype: float64\n",
      "\n",
      "Dataframe's first 5 rows after creating new variables:\n",
      "         FIRST NAME   YOB ENROLL DESIGNATE   DT ACCEPT CG    CTY      DT CHG  \\\n",
      "0      Eula Vitolo  1913      R             12/5/1935  2  01AND  11/26/2008   \n",
      "1   Walton Santoyo  1918      R              9/8/1947  2  01AND   5/22/2008   \n",
      "2   Aletha Stabile  1925      D            10/14/1952  2  01AND   5/17/2010   \n",
      "3   Nannette Thong  1928      D             11/8/2005  2  01AND   4/25/2012   \n",
      "4  Courtney Bonner  1929      R            10/20/2009  2  01AND   6/13/2012   \n",
      "\n",
      "  DT LAST VPH  YOB_numeric    age  \n",
      "0                   1913.0  111.0  \n",
      "1   6/10/2008       1918.0  106.0  \n",
      "2   11/2/2010       1925.0   99.0  \n",
      "3   11/4/2008       1928.0   96.0  \n",
      "4   6/14/2016       1929.0   95.0  \n",
      "\n",
      "Dataframe Shape after adding new columns to it (rows, columns): (100, 11)\n"
     ]
    }
   ],
   "source": [
    "import pandas as pd\n",
    "\n",
    "\n",
    "df = pd.read_csv('../Datasets/Chapter 6/Voters_A.csv')\n",
    "print(\"Dataframe Shape (rows, columns):\",df.shape)\n",
    "print(\"\\nRaw data-first 5 rows:\\n\",df.head())\n",
    "print(\"\\nDatatypes of raw data:\\n\")\n",
    "print(\"\\n\",df.dtypes)\n",
    "\n",
    "df['YOB_numeric'] = pd.to_numeric(df['YOB'], errors='coerce')\n",
    "print(\"\\nDatatypes after typecasting:\\n\")\n",
    "print(\"\\n\",df.dtypes)\n",
    "\n",
    "age = 2024 - df['YOB_numeric']\n",
    "\n",
    "print(\"\\nage:\\n\",age.head())\n",
    "\n",
    "df['age']=age\n",
    "print(\"\\nDataframe's first 5 rows after creating new variables:\\n\",df.head())\n",
    "print(\"\\nDataframe Shape after adding new columns to it (rows, columns):\",df.shape)"
   ]
  },
  {
   "cell_type": "markdown",
   "id": "09c57eda",
   "metadata": {
    "id": "09c57eda"
   },
   "source": [
    "# Listing 6.4 Rearrange Variables"
   ]
  },
  {
   "cell_type": "code",
   "execution_count": 3,
   "id": "8adc4eb1",
   "metadata": {
    "colab": {
     "base_uri": "https://localhost:8080/",
     "height": 530
    },
    "executionInfo": {
     "elapsed": 332,
     "status": "error",
     "timestamp": 1722527158355,
     "user": {
      "displayName": "Suvoraj Biswas",
      "userId": "17327673759872688056"
     },
     "user_tz": 300
    },
    "id": "8adc4eb1",
    "outputId": "00761d34-c8fd-4e51-95cb-0f0f78817eaf"
   },
   "outputs": [
    {
     "name": "stdout",
     "output_type": "stream",
     "text": [
      "\n",
      "Raw data-first 5 rows:\n",
      "         FIRST NAME   YOB ENROLL DESIGNATE   DT ACCEPT CG    CTY      DT CHG  \\\n",
      "0      Eula Vitolo  1913      R             12/5/1935  2  01AND  11/26/2008   \n",
      "1   Walton Santoyo  1918      R              9/8/1947  2  01AND   5/22/2008   \n",
      "2   Aletha Stabile  1925      D            10/14/1952  2  01AND   5/17/2010   \n",
      "3   Nannette Thong  1928      D             11/8/2005  2  01AND   4/25/2012   \n",
      "4  Courtney Bonner  1929      R            10/20/2009  2  01AND   6/13/2012   \n",
      "\n",
      "  DT LAST VPH  \n",
      "0              \n",
      "1   6/10/2008  \n",
      "2   11/2/2010  \n",
      "3   11/4/2008  \n",
      "4   6/14/2016  \n",
      "\n",
      "The df after rearranging:\n",
      "         FIRST NAME   YOB    age ENROLL DESIGNATE   DT ACCEPT CG    CTY  \\\n",
      "0      Eula Vitolo  1913  111.0      R             12/5/1935  2  01AND   \n",
      "1   Walton Santoyo  1918  106.0      R              9/8/1947  2  01AND   \n",
      "2   Aletha Stabile  1925   99.0      D            10/14/1952  2  01AND   \n",
      "3   Nannette Thong  1928   96.0      D             11/8/2005  2  01AND   \n",
      "4  Courtney Bonner  1929   95.0      R            10/20/2009  2  01AND   \n",
      "\n",
      "       DT CHG DT LAST VPH  \n",
      "0  11/26/2008              \n",
      "1   5/22/2008   6/10/2008  \n",
      "2   5/17/2010   11/2/2010  \n",
      "3   4/25/2012   11/4/2008  \n",
      "4   6/13/2012   6/14/2016  \n"
     ]
    }
   ],
   "source": [
    "import pandas as pd\n",
    "\n",
    "\n",
    "df = pd.read_csv('../Datasets/Chapter 6/Voters_A.csv')\n",
    "print(\"\\nRaw data-first 5 rows:\\n\",df.head())\n",
    "df['YOB_numeric'] = pd.to_numeric(df['YOB'], errors='coerce')\n",
    "\n",
    "df['age'] = 2024 - df['YOB_numeric']\n",
    "\n",
    "df=df[['FIRST NAME', 'YOB', 'age', 'ENROLL', 'DESIGNATE','DT ACCEPT', 'CG', 'CTY','DT CHG', 'DT LAST VPH']]\n",
    "print(\"\\nThe df after rearranging:\\n\",df.head())"
   ]
  },
  {
   "cell_type": "markdown",
   "id": "4782366c",
   "metadata": {
    "id": "4782366c"
   },
   "source": [
    "# Listing 6.5 IF Statement"
   ]
  },
  {
   "cell_type": "code",
   "execution_count": 4,
   "id": "adae90e9",
   "metadata": {
    "id": "adae90e9",
    "outputId": "f78b5647-ffda-4002-b067-318a2451af26"
   },
   "outputs": [
    {
     "name": "stdout",
     "output_type": "stream",
     "text": [
      "\n",
      "Raw data-first 5 rows:\n",
      "         FIRST NAME   YOB ENROLL DESIGNATE   DT ACCEPT CG    CTY      DT CHG  \\\n",
      "0      Eula Vitolo  1913      R             12/5/1935  2  01AND  11/26/2008   \n",
      "1   Walton Santoyo  1918      R              9/8/1947  2  01AND   5/22/2008   \n",
      "2   Aletha Stabile  1925      D            10/14/1952  2  01AND   5/17/2010   \n",
      "3   Nannette Thong  1928      D             11/8/2005  2  01AND   4/25/2012   \n",
      "4  Courtney Bonner  1929      R            10/20/2009  2  01AND   6/13/2012   \n",
      "\n",
      "  DT LAST VPH  \n",
      "0              \n",
      "1   6/10/2008  \n",
      "2   11/2/2010  \n",
      "3   11/4/2008  \n",
      "4   6/14/2016  \n",
      "\n",
      "The rows with the wrong ages:\n",
      " FIRST NAME     Mckinley Guynn\n",
      "YOB                      1680\n",
      "ENROLL                      D\n",
      "DESIGNATE                    \n",
      "DT ACCEPT          11/27/2007\n",
      "CG                          2\n",
      "CTY                     01AND\n",
      "DT CHG             10/18/2011\n",
      "DT LAST VPH         11/4/2014\n",
      "YOB_numeric            1680.0\n",
      "age                     344.0\n",
      "Name: 89, dtype: object\n",
      "\n",
      "Replacing the wrong ages with NaN:\n",
      " FIRST NAME     Mckinley Guynn\n",
      "YOB                      1680\n",
      "ENROLL                      D\n",
      "DESIGNATE                    \n",
      "DT ACCEPT          11/27/2007\n",
      "CG                          2\n",
      "CTY                     01AND\n",
      "DT CHG             10/18/2011\n",
      "DT LAST VPH         11/4/2014\n",
      "YOB_numeric            1680.0\n",
      "age                       NaN\n",
      "Name: 89, dtype: object\n"
     ]
    }
   ],
   "source": [
    "import pandas as pd\n",
    "\n",
    "df = pd.read_csv('../Datasets/Chapter 6/Voters_A.csv')\n",
    "print(\"\\nRaw data-first 5 rows:\\n\",df.head())\n",
    "df['YOB_numeric'] = pd.to_numeric(df['YOB'], errors='coerce')\n",
    "\n",
    "df['age'] = 2024 - df['YOB_numeric']\n",
    "\n",
    "for x in df.index:\n",
    "    if df.loc[x, \"age\"] > 150:\n",
    "        print(\"\\nThe rows with the wrong ages:\\n\",df.loc[x])\n",
    "        df.loc[x, \"age\"] = \"NaN\"\n",
    "        print(\"\\nReplacing the wrong ages with NaN:\\n\",df.loc[x])\n"
   ]
  },
  {
   "cell_type": "markdown",
   "id": "d94091a7",
   "metadata": {
    "id": "d94091a7"
   },
   "source": [
    "# Listing 6.6 IF-ELIF Statement"
   ]
  },
  {
   "cell_type": "code",
   "execution_count": 3,
   "id": "1d3a31d8",
   "metadata": {
    "id": "1d3a31d8",
    "outputId": "be21b769-56ce-4d77-d93b-218826dd227e"
   },
   "outputs": [
    {
     "name": "stdout",
     "output_type": "stream",
     "text": [
      "\n",
      "Raw data-first 5 rows:\n",
      "         FIRST NAME   YOB ENROLL DESIGNATE   DT ACCEPT CG    CTY      DT CHG  \\\n",
      "0      Eula Vitolo  1913      R             12/5/1935  2  01AND  11/26/2008   \n",
      "1   Walton Santoyo  1918      R              9/8/1947  2  01AND   5/22/2008   \n",
      "2   Aletha Stabile  1925      D            10/14/1952  2  01AND   5/17/2010   \n",
      "3   Nannette Thong  1928      D             11/8/2005  2  01AND   4/25/2012   \n",
      "4  Courtney Bonner  1929      R            10/20/2009  2  01AND   6/13/2012   \n",
      "\n",
      "  DT LAST VPH  \n",
      "0              \n",
      "1   6/10/2008  \n",
      "2   11/2/2010  \n",
      "3   11/4/2008  \n",
      "4   6/14/2016  \n",
      "\n",
      "checking age_group:\n",
      "         FIRST NAME   YOB ENROLL DESIGNATE   DT ACCEPT CG    CTY      DT CHG  \\\n",
      "0      Eula Vitolo  1913      R             12/5/1935  2  01AND  11/26/2008   \n",
      "1   Walton Santoyo  1918      R              9/8/1947  2  01AND   5/22/2008   \n",
      "2   Aletha Stabile  1925      D            10/14/1952  2  01AND   5/17/2010   \n",
      "3   Nannette Thong  1928      D             11/8/2005  2  01AND   4/25/2012   \n",
      "4  Courtney Bonner  1929      R            10/20/2009  2  01AND   6/13/2012   \n",
      "\n",
      "  DT LAST VPH  YOB_numeric    age age_group  \n",
      "0                   1913.0  111.0       65+  \n",
      "1   6/10/2008       1918.0  106.0       65+  \n",
      "2   11/2/2010       1925.0   99.0       65+  \n",
      "3   11/4/2008       1928.0   96.0       65+  \n",
      "4   6/14/2016       1929.0   95.0       65+  \n",
      "\n",
      "   age_group  Frequency\n",
      "0     40-49         49\n",
      "1     50-64         33\n",
      "2       65+         15\n",
      "3     30-39          1\n",
      "4     25-29          1\n"
     ]
    },
    {
     "data": {
      "image/png": "[encoded data removed]",
      "text/plain": [
       "<Figure size 576x432 with 1 Axes>"
      ]
     },
     "metadata": {
      "needs_background": "light"
     },
     "output_type": "display_data"
    }
   ],
   "source": [
    "import pandas as pd\n",
    "import matplotlib.pyplot as plt\n",
    "\n",
    "df = pd.read_csv('../Datasets/Chapter 6/Voters_A.csv')\n",
    "print(\"\\nRaw data-first 5 rows:\\n\",df.head())\n",
    "df['YOB_numeric'] = pd.to_numeric(df['YOB'], errors='coerce')\n",
    "\n",
    "df['age'] = 2024 - df['YOB_numeric']\n",
    "for x in df.index:\n",
    "    #if (df.loc[x,'age']>=18 and df.loc[x,'age']<=24):\n",
    "    if (18<=df.loc[x,'age']<=24):\n",
    "        df.loc[x,'age_group']='18-24'\n",
    "    elif (25<=df.loc[x,'age']<=29) :\n",
    "        df.loc[x,'age_group']='25-29'\n",
    "    elif (30<=df.loc[x,'age']<=39) :\n",
    "        df.loc[x,'age_group']='30-39'\n",
    "    elif (40<=df.loc[x,'age']<=49) :\n",
    "        df.loc[x,'age_group']='40-49'\n",
    "    elif (50<=df.loc[x,'age']<=64) :\n",
    "        df.loc[x,'age_group']='50-64'\n",
    "    elif (df.loc[x,'age']>=65) :\n",
    "        df.loc[x,'age_group']='65+';\n",
    "\n",
    "print(\"\\nchecking age_group:\\n\",df.head())\n",
    "\n",
    "frequency_table = df['age_group'].value_counts().to_frame('Frequency').reset_index()\n",
    "\n",
    "frequency_table.columns = ['age_group', 'Frequency']\n",
    "\n",
    "frequency_table = frequency_table.sort_values(by='Frequency', ascending=False)\n",
    "\n",
    "print(\"\\n\",frequency_table)\n",
    "\n",
    "plt.figure(figsize=(8, 6))\n",
    "plt.bar(frequency_table['age_group'], frequency_table['Frequency'], color='skyblue')\n",
    "plt.xlabel('age_group')\n",
    "plt.ylabel('Frequency')\n",
    "plt.title('Frequency Plot of age_group')\n",
    "plt.show()"
   ]
  },
  {
   "cell_type": "markdown",
   "id": "3a0a4f19",
   "metadata": {
    "id": "3a0a4f19"
   },
   "source": [
    "# Listing 6.7 Drop a Row"
   ]
  },
  {
   "cell_type": "code",
   "execution_count": 6,
   "id": "a2bce5eb",
   "metadata": {
    "id": "a2bce5eb",
    "outputId": "eff0209a-4682-44fa-9823-7fe178623dd2"
   },
   "outputs": [
    {
     "name": "stdout",
     "output_type": "stream",
     "text": [
      "Dataframe Shape (rows, columns): (100, 9)\n",
      "\n",
      "Raw data-first 5 rows:\n",
      "         FIRST NAME   YOB ENROLL DESIGNATE   DT ACCEPT CG    CTY      DT CHG  \\\n",
      "0      Eula Vitolo  1913      R             12/5/1935  2  01AND  11/26/2008   \n",
      "1   Walton Santoyo  1918      R              9/8/1947  2  01AND   5/22/2008   \n",
      "2   Aletha Stabile  1925      D            10/14/1952  2  01AND   5/17/2010   \n",
      "3   Nannette Thong  1928      D             11/8/2005  2  01AND   4/25/2012   \n",
      "4  Courtney Bonner  1929      R            10/20/2009  2  01AND   6/13/2012   \n",
      "\n",
      "  DT LAST VPH  \n",
      "0              \n",
      "1   6/10/2008  \n",
      "2   11/2/2010  \n",
      "3   11/4/2008  \n",
      "4   6/14/2016  \n",
      "\n",
      "Rows with coercing errors in 'YOB':\n",
      "       FIRST NAME YOB ENROLL DESIGNATE DT ACCEPT CG CTY DT CHG DT LAST VPH  \\\n",
      "83  Cletus Bodine                                                            \n",
      "\n",
      "    YOB_numeric  \n",
      "83          NaN  \n",
      "\n",
      "Checking if the row with errors was deleted or not:\n",
      "Empty DataFrame\n",
      "Columns: [FIRST NAME, YOB, ENROLL, DESIGNATE, DT ACCEPT, CG, CTY, DT CHG, DT LAST VPH, YOB_numeric]\n",
      "Index: []\n",
      "Further verification by checking the Dataframe Shape (rows, columns): (99, 10)\n"
     ]
    }
   ],
   "source": [
    "import pandas as pd\n",
    "\n",
    "\n",
    "df = pd.read_csv('../Datasets/Chapter 6/Voters_A.csv')\n",
    "print(\"Dataframe Shape (rows, columns):\",df.shape)\n",
    "print(\"\\nRaw data-first 5 rows:\\n\",df.head())\n",
    "\n",
    "df['YOB_numeric'] = pd.to_numeric(df['YOB'], errors='coerce')\n",
    "\n",
    "rows_with_errors = df[df['YOB_numeric'].isna()]\n",
    "print(\"\\nRows with coercing errors in 'YOB':\")\n",
    "print(rows_with_errors)\n",
    "\n",
    "df.drop([83],axis=0,inplace=True)\n",
    "rows_with_errors = df[df['YOB_numeric'].isna()]\n",
    "print(\"\\nChecking if the row with errors was deleted or not:\")\n",
    "print(rows_with_errors)\n",
    "print(\"Further verification by checking the Dataframe Shape (rows, columns):\",df.shape)"
   ]
  },
  {
   "cell_type": "markdown",
   "id": "2b420d47",
   "metadata": {
    "id": "2b420d47"
   },
   "source": [
    "# Listing 6.8 Drop a Column"
   ]
  },
  {
   "cell_type": "code",
   "execution_count": 7,
   "id": "56dc705e",
   "metadata": {
    "id": "56dc705e",
    "outputId": "ca03e9a2-f228-4826-99a3-ad8f3d322dd0"
   },
   "outputs": [
    {
     "name": "stdout",
     "output_type": "stream",
     "text": [
      "The size of the dataframe: (100, 9)\n",
      "FIRST NAME       0\n",
      "YOB              1\n",
      "ENROLL           1\n",
      "DESIGNATE      100\n",
      "DT ACCEPT        1\n",
      "CG               1\n",
      "CTY              1\n",
      "DT CHG           1\n",
      "DT LAST VPH     34\n",
      "dtype: int64\n",
      "The dataframe before dropping:\n",
      "        FIRST NAME   YOB ENROLL  DESIGNATE   DT ACCEPT CG    CTY      DT CHG  \\\n",
      "0      Eula Vitolo  1913      R        NaN   12/5/1935  2  01AND  11/26/2008   \n",
      "1   Walton Santoyo  1918      R        NaN    9/8/1947  2  01AND   5/22/2008   \n",
      "2   Aletha Stabile  1925      D        NaN  10/14/1952  2  01AND   5/17/2010   \n",
      "3   Nannette Thong  1928      D        NaN   11/8/2005  2  01AND   4/25/2012   \n",
      "4  Courtney Bonner  1929      R        NaN  10/20/2009  2  01AND   6/13/2012   \n",
      "\n",
      "  DT LAST VPH  \n",
      "0         NaN  \n",
      "1   6/10/2008  \n",
      "2   11/2/2010  \n",
      "3   11/4/2008  \n",
      "4   6/14/2016  \n",
      "The size of the dataframe: (100, 8)\n",
      "The dataframe after dropping:\n",
      "        FIRST NAME   YOB ENROLL   DT ACCEPT CG    CTY      DT CHG DT LAST VPH\n",
      "0      Eula Vitolo  1913      R   12/5/1935  2  01AND  11/26/2008         NaN\n",
      "1   Walton Santoyo  1918      R    9/8/1947  2  01AND   5/22/2008   6/10/2008\n",
      "2   Aletha Stabile  1925      D  10/14/1952  2  01AND   5/17/2010   11/2/2010\n",
      "3   Nannette Thong  1928      D   11/8/2005  2  01AND   4/25/2012   11/4/2008\n",
      "4  Courtney Bonner  1929      R  10/20/2009  2  01AND   6/13/2012   6/14/2016\n"
     ]
    }
   ],
   "source": [
    "import pandas as pd\n",
    "\n",
    "import numpy as np\n",
    "df = pd.read_csv('../Datasets/Chapter 6/Voters_A.csv')\n",
    "print(\"The size of the dataframe:\",df.shape)\n",
    "df.replace(to_replace=[r'^\\s*$', '', None], value=np.nan, regex=True, inplace=True)\n",
    "print(df.isnull().sum())\n",
    "\n",
    "print(\"The dataframe before dropping:\")\n",
    "print(df.head())\n",
    "\n",
    "df.drop(\"DESIGNATE\",axis = 1, inplace = True)\n",
    "print(\"The size of the dataframe:\",df.shape)\n",
    "print(\"The dataframe after dropping:\")\n",
    "print(df.head())\n",
    "\n"
   ]
  },
  {
   "cell_type": "markdown",
   "id": "c779784c",
   "metadata": {
    "id": "c779784c"
   },
   "source": [
    "# Listing 6.9 Subset"
   ]
  },
  {
   "cell_type": "code",
   "execution_count": 8,
   "id": "225f8a5e",
   "metadata": {
    "id": "225f8a5e",
    "outputId": "5afd3343-3227-4e15-f1cd-0abd5ceaa337"
   },
   "outputs": [
    {
     "name": "stdout",
     "output_type": "stream",
     "text": [
      "            FIRST NAME   YOB ENROLL DESIGNATE   DT ACCEPT CG\n",
      "2       Aletha Stabile  1925      D            10/14/1952  2\n",
      "3       Nannette Thong  1928      D             11/8/2005  2\n",
      "8          Trisha Tuch  1949      D              5/8/2006  2\n",
      "9   Vonda Delahoussaye  1950      D             11/2/1988  2\n",
      "11    Flavia Adolphson  1986      D             6/16/2012  2\n",
      "(24, 9)\n",
      "        FIRST NAME   YOB ENROLL DESIGNATE   DT ACCEPT CG\n",
      "0      Eula Vitolo  1913      R             12/5/1935  2\n",
      "1   Walton Santoyo  1918      R              9/8/1947  2\n",
      "4  Courtney Bonner  1929      R            10/20/2009  2\n",
      "5    Leda Glessner  1932      R            10/21/1968  2\n",
      "6    Cammie Sidoti  1935      R            12/16/2004  2\n",
      "(24, 9)\n",
      "  ENROLL  Frequency\n",
      "0      U         47\n",
      "1      R         24\n",
      "2      D         24\n",
      "3      G          3\n",
      "4      L          1\n",
      "5                 1\n"
     ]
    }
   ],
   "source": [
    "import pandas as pd\n",
    "\n",
    "import numpy as np\n",
    "df = pd.read_csv('../Datasets/Chapter 6/Voters_A.csv')\n",
    "\n",
    "democrats=df[df['ENROLL']==\"D\"]\n",
    "print(democrats.iloc[:,:6].head())\n",
    "print(democrats.shape)\n",
    "\n",
    "republicans=df[df['ENROLL']==\"R\"]\n",
    "print(republicans.iloc[:,:6].head())\n",
    "print(republicans.shape)\n",
    "\n",
    "frequency_table = df['ENROLL'].value_counts().reset_index().rename(columns={'index': 'ENROLL', 'ENROLL': 'Frequency'})\n",
    "frequency_table = frequency_table.sort_values(by='Frequency', ascending=False)\n",
    "print(frequency_table)\n"
   ]
  },
  {
   "cell_type": "markdown",
   "id": "89af847e",
   "metadata": {
    "id": "89af847e",
    "scrolled": false
   },
   "source": [
    "# Listing 6.10 Append"
   ]
  },
  {
   "cell_type": "code",
   "execution_count": null,
   "id": "0e03a86a",
   "metadata": {
    "id": "0e03a86a",
    "outputId": "e9db8911-7f74-4b9a-c343-2a90f7837e92"
   },
   "outputs": [
    {
     "name": "stdout",
     "output_type": "stream",
     "text": [
      "The size of the new dataframe= (48, 9)\n",
      "Vertical Merge Result:\n",
      "             FIRST NAME   YOB ENROLL DESIGNATE   DT ACCEPT CG\n",
      "2        Aletha Stabile  1925      D            10/14/1952  2\n",
      "3        Nannette Thong  1928      D             11/8/2005  2\n",
      "8           Trisha Tuch  1949      D              5/8/2006  2\n",
      "9    Vonda Delahoussaye  1950      D             11/2/1988  2\n",
      "11     Flavia Adolphson  1986      D             6/16/2012  2\n",
      "12         Jarrod Sells  1995      D             12/8/2015  2\n",
      "18        Carina Benson  1955      D             8/10/1998  2\n",
      "29       Kylie Wolfgram  1971      D             12/4/1991  2\n",
      "34       Salena Mcgowin  1972      D            01/01/1850  2\n",
      "43   Alejandra Schuyler  1974      D            01/01/1850  2\n",
      "44        Misti Shibata  1974      D            10/13/1992  2\n",
      "45        Arleen Ranson  1974      D             11/5/1997  2\n",
      "58        Walker Shippy  1976      D             8/30/1994  2\n",
      "59      Jermaine Elston  1976      D            10/28/2004  2\n",
      "60       Ellis Mcdaniel  1976      D             11/2/2004  2\n",
      "73       Seymour Seiber  1978      D             9/25/2002  2\n",
      "74        Waldo Weidman  1978      D            10/12/2004  2\n",
      "75       Marco Mccarley  1978      D             11/2/2004  2\n",
      "85            Zane Kime  1979      D            10/25/2008  2\n",
      "86           Barney Xie  1979      D             11/4/2008  2\n",
      "89       Mckinley Guynn  1680      D            11/27/2007  2\n",
      "93      Benjamin Wilton  1981      D             2/23/2016  2\n",
      "98      Quintin Speegle  1982      D              3/7/2000  2\n",
      "99      Mervin Margolis  1982      D             11/7/2006  2\n",
      "0           Eula Vitolo  1913      R             12/5/1935  2\n",
      "1        Walton Santoyo  1918      R              9/8/1947  2\n",
      "4       Courtney Bonner  1929      R            10/20/2009  2\n",
      "5         Leda Glessner  1932      R            10/21/1968  2\n",
      "6         Cammie Sidoti  1935      R            12/16/2004  2\n",
      "7          Regina Bundy  1944      R              8/5/1971  2\n",
      "16      Verena Sapienza  1938      R             9/28/1964  2\n",
      "21         Kurtis Howle  1967      R             11/1/2004  2\n",
      "25         Kylee Admire  1970      R             6/12/2006  2\n",
      "30      Nguyet Scheider  1971      R             9/24/1992  2\n",
      "38           Mi Henegar  1973      R             11/5/2002  2\n",
      "47         Chanel Capra  1974      R             11/3/1998  2\n",
      "51    Edmund Ballantine  1975      R              6/9/1998  2\n",
      "67       Jackson Fallen  1977      R             2/10/2008  2\n",
      "68         Numbers Wnuk  1977      R             11/5/1996  2\n",
      "69        Tommie Brandi  1977      R            11/13/1995  2\n",
      "77          Fidel Keown  1978      R             3/19/2004  2\n",
      "78        Art Destefano  1978      R            10/25/2004  2\n",
      "79           Mack Esses  1978      R             11/2/2004  2\n",
      "80      Elmer Prestwood  1978      R             11/7/2006  2\n",
      "87       Miguel Reading  1979      R            10/23/2012  2\n",
      "90      Gregory Scherer  1980      R            10/18/2004  2\n",
      "91             Rob Heth  1980      R             11/4/2014  2\n",
      "94  Stephen Shaughnessy  1981      R             2/18/2015  2\n"
     ]
    }
   ],
   "source": [
    "import pandas as pd\n",
    "\n",
    "vertical_merged_df = pd.concat([democrats,republicans ], axis=0)\n",
    "\n",
    "print(\"The size of the new dataframe=\",vertical_merged_df.shape)\n",
    "print(\"Vertical Merge Result:\")\n",
    "print(vertical_merged_df.iloc[:,:6])\n"
   ]
  },
  {
   "cell_type": "markdown",
   "id": "2fc8431b",
   "metadata": {
    "collapsed": true,
    "id": "2fc8431b"
   },
   "source": [
    "# Listing 6.11 Merge"
   ]
  },
  {
   "cell_type": "code",
   "execution_count": 9,
   "id": "0ac1714c",
   "metadata": {
    "id": "0ac1714c",
    "outputId": "813ce02a-1298-474e-ade9-9842bff3f93b"
   },
   "outputs": [
    {
     "name": "stdout",
     "output_type": "stream",
     "text": [
      "\n",
      "The Many Dataset Dimensions:\n",
      " (3000, 58)\n",
      "\n",
      "The Few Dataset Dimensions:\n",
      " (1000, 3)\n",
      "\n",
      "The Merged Dataset dimensions:\n",
      " (1004, 60)\n",
      "\n",
      "The Merged Dataset Head:\n",
      "    parcelid  airconditioningtypeid  architecturalstyletypeid  basementsqft  \\\n",
      "0  17073783                    NaN                       NaN           NaN   \n",
      "1  17088994                    NaN                       NaN           NaN   \n",
      "2  17100444                    NaN                       NaN           NaN   \n",
      "3  17102429                    NaN                       NaN           NaN   \n",
      "4  17109604                    NaN                       NaN           NaN   \n",
      "\n",
      "   bathroomcnt  bedroomcnt  buildingclasstypeid  buildingqualitytypeid  \\\n",
      "0          2.5           3                  NaN                    NaN   \n",
      "1          1.0           2                  NaN                    NaN   \n",
      "2          2.0           3                  NaN                    NaN   \n",
      "3          1.5           2                  NaN                    NaN   \n",
      "4          2.5           4                  NaN                    NaN   \n",
      "\n",
      "   calculatedbathnbr  decktypeid  ...  structuretaxvaluedollarcnt  \\\n",
      "0                2.5         NaN  ...                    115087.0   \n",
      "1                1.0         NaN  ...                    143809.0   \n",
      "2                2.0         NaN  ...                     33619.0   \n",
      "3                1.5         NaN  ...                     45609.0   \n",
      "4                2.5         NaN  ...                    277000.0   \n",
      "\n",
      "   taxvaluedollarcnt  assessmentyear  landtaxvaluedollarcnt  taxamount  \\\n",
      "0             191811            2015                  76724    2015.06   \n",
      "1             239679            2015                  95870    2581.30   \n",
      "2              47853            2015                  14234     591.64   \n",
      "3              62914            2015                  17305     682.78   \n",
      "4             554000            2015                 277000    5886.92   \n",
      "\n",
      "   taxdelinquencyflag  taxdelinquencyyear  censustractandblock  logerror  \\\n",
      "0                 NaN                 NaN         6.111000e+13    0.0953   \n",
      "1                 NaN                 NaN         6.111000e+13    0.0198   \n",
      "2                 NaN                 NaN         6.111000e+13    0.0060   \n",
      "3                 NaN                 NaN         6.111000e+13   -0.0566   \n",
      "4                 NaN                 NaN         6.111000e+13    0.0573   \n",
      "\n",
      "   transactiondate  \n",
      "0        1/27/2016  \n",
      "1        3/30/2016  \n",
      "2        5/27/2016  \n",
      "3         6/7/2016  \n",
      "4         8/8/2016  \n",
      "\n",
      "[5 rows x 60 columns]\n"
     ]
    }
   ],
   "source": [
    "import pandas as pd\n",
    "\n",
    "file1 = pd.read_csv('../Datasets/Chapter 6/many.csv', low_memory=False)\n",
    "file2 = pd.read_csv('../Datasets/Chapter 6/few.csv', low_memory=False)\n",
    "print(\"\\nThe Many Dataset Dimensions:\\n\",file1.shape)\n",
    "print(\"\\nThe Few Dataset Dimensions:\\n\",file2.shape)\n",
    "\n",
    "zillow_merged = pd.merge(file1, file2, on='parcelid')\n",
    "print(\"\\nThe Merged Dataset dimensions:\\n\",zillow_merged.shape)\n",
    "\n",
    "print(\"\\nThe Merged Dataset Head:\\n\",zillow_merged.head())\n"
   ]
  }
 ],
 "metadata": {
  "colab": {
   "provenance": []
  },
  "kernelspec": {
   "display_name": "Python 3 (ipykernel)",
   "language": "python",
   "name": "python3"
  },
  "language_info": {
   "codemirror_mode": {
    "name": "ipython",
    "version": 3
   },
   "file_extension": ".py",
   "mimetype": "text/x-python",
   "name": "python",
   "nbconvert_exporter": "python",
   "pygments_lexer": "ipython3",
   "version": "3.9.7"
  }
 },
 "nbformat": 4,
 "nbformat_minor": 5
}
