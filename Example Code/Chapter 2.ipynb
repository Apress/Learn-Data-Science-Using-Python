{
 "cells": [
  {
   "cell_type": "markdown",
   "id": "93cced4e",
   "metadata": {},
   "source": [
    "# Listing 2.1 Pandas DataFrame    "
   ]
  },
  {
   "cell_type": "code",
   "execution_count": 1,
   "id": "f31bdbab",
   "metadata": {},
   "outputs": [
    {
     "name": "stdout",
     "output_type": "stream",
     "text": [
      "   A  B\n",
      "0  1  4\n",
      "1  2  5\n",
      "2  3  6\n"
     ]
    }
   ],
   "source": [
    "import pandas as pd\n",
    "df = pd.DataFrame({'A': [1, 2, 3], 'B': [4, 5, 6]})\n",
    "print(df)"
   ]
  },
  {
   "cell_type": "markdown",
   "id": "18326ee7",
   "metadata": {},
   "source": [
    "# Listing 2.2 Numpy"
   ]
  },
  {
   "cell_type": "code",
   "execution_count": 2,
   "id": "280e5b8a",
   "metadata": {},
   "outputs": [
    {
     "name": "stdout",
     "output_type": "stream",
     "text": [
      "[1 2 3]\n"
     ]
    }
   ],
   "source": [
    "import numpy as np\n",
    "arr = np.array([1, 2, 3])\n",
    "print(arr)"
   ]
  },
  {
   "cell_type": "markdown",
   "id": "b8fee98a",
   "metadata": {},
   "source": [
    "# Lisiting 2.3 Pandas Series"
   ]
  },
  {
   "cell_type": "code",
   "execution_count": 3,
   "id": "827d1d39",
   "metadata": {},
   "outputs": [
    {
     "name": "stdout",
     "output_type": "stream",
     "text": [
      "0    1\n",
      "1    2\n",
      "2    3\n",
      "dtype: int64\n"
     ]
    }
   ],
   "source": [
    "import pandas as pd\n",
    "s = pd.Series([1, 2, 3])\n",
    "print(s)"
   ]
  },
  {
   "cell_type": "markdown",
   "id": "f1bdc981",
   "metadata": {},
   "source": [
    "# Listing 2.4 Convert to integer"
   ]
  },
  {
   "cell_type": "code",
   "execution_count": 4,
   "id": "90cf8fcb",
   "metadata": {},
   "outputs": [
    {
     "name": "stdout",
     "output_type": "stream",
     "text": [
      "3\n"
     ]
    }
   ],
   "source": [
    "x = int(3.14)  \n",
    "print(x)"
   ]
  },
  {
   "cell_type": "markdown",
   "id": "1d75a6dc",
   "metadata": {},
   "source": [
    "# Listing 2.5 Convert to float"
   ]
  },
  {
   "cell_type": "code",
   "execution_count": 5,
   "id": "e57f2353",
   "metadata": {},
   "outputs": [
    {
     "name": "stdout",
     "output_type": "stream",
     "text": [
      "3.0\n"
     ]
    }
   ],
   "source": [
    "x = float(3) \n",
    "print(x)"
   ]
  },
  {
   "cell_type": "markdown",
   "id": "f1cf624f",
   "metadata": {},
   "source": [
    "# Listing 2.6 Convert to string"
   ]
  },
  {
   "cell_type": "code",
   "execution_count": 6,
   "id": "9220e32f",
   "metadata": {},
   "outputs": [
    {
     "data": {
      "text/plain": [
       "'3.14'"
      ]
     },
     "execution_count": 6,
     "metadata": {},
     "output_type": "execute_result"
    }
   ],
   "source": [
    "x = str(3.14) \n",
    "x"
   ]
  },
  {
   "cell_type": "markdown",
   "id": "f6bec2dc",
   "metadata": {},
   "source": [
    "# Listing 2.7 Convert to list"
   ]
  },
  {
   "cell_type": "code",
   "execution_count": 7,
   "id": "1b5181aa",
   "metadata": {},
   "outputs": [
    {
     "name": "stdout",
     "output_type": "stream",
     "text": [
      "[1, 2, 3]\n"
     ]
    }
   ],
   "source": [
    "x = list((1, 2, 3))  \n",
    "print(x)"
   ]
  },
  {
   "cell_type": "markdown",
   "id": "8921c524",
   "metadata": {},
   "source": [
    "# Listing 2.8 Convert to tuple"
   ]
  },
  {
   "cell_type": "code",
   "execution_count": 8,
   "id": "02a218c2",
   "metadata": {},
   "outputs": [
    {
     "name": "stdout",
     "output_type": "stream",
     "text": [
      "(1, 2, 3)\n"
     ]
    }
   ],
   "source": [
    "x = tuple([1, 2, 3])  \n",
    "print(x)"
   ]
  },
  {
   "cell_type": "markdown",
   "id": "c4babc12",
   "metadata": {},
   "source": [
    "# Listing 2.9 Convert to set"
   ]
  },
  {
   "cell_type": "code",
   "execution_count": 9,
   "id": "9278fe85",
   "metadata": {},
   "outputs": [
    {
     "name": "stdout",
     "output_type": "stream",
     "text": [
      "{1, 2, 3}\n"
     ]
    }
   ],
   "source": [
    "x = set([1, 2, 2, 3])  \n",
    "print(x)"
   ]
  },
  {
   "cell_type": "markdown",
   "id": "ae5e6719",
   "metadata": {},
   "source": [
    "# Listing 2.10 Convert to dict"
   ]
  },
  {
   "cell_type": "code",
   "execution_count": 10,
   "id": "8a375a8a",
   "metadata": {},
   "outputs": [
    {
     "name": "stdout",
     "output_type": "stream",
     "text": [
      "{'a': 1, 'b': 2}\n"
     ]
    }
   ],
   "source": [
    "x = dict([('a', 1), ('b', 2)])  \n",
    "print(x)"
   ]
  },
  {
   "cell_type": "markdown",
   "id": "1a0d1057",
   "metadata": {},
   "source": [
    "# Listing 2.11 Convert to numpy array"
   ]
  },
  {
   "cell_type": "code",
   "execution_count": 11,
   "id": "dd66fbb9",
   "metadata": {},
   "outputs": [
    {
     "name": "stdout",
     "output_type": "stream",
     "text": [
      "Original DataFrame:\n",
      "    A  B   C\n",
      "0  1  5   9\n",
      "1  2  6  10\n",
      "2  3  7  11\n",
      "3  4  8  12\n",
      "\n",
      "Converted to numpy array:\n",
      " [[ 1  5  9]\n",
      " [ 2  6 10]\n",
      " [ 3  7 11]\n",
      " [ 4  8 12]]\n"
     ]
    }
   ],
   "source": [
    "import pandas as pd\n",
    "import numpy as np\n",
    "\n",
    "data = {\n",
    "    'A': [1, 2, 3, 4],\n",
    "    'B': [5, 6, 7, 8],\n",
    "    'C': [9, 10, 11, 12]\n",
    "}\n",
    "df = pd.DataFrame(data)\n",
    "print(\"Original DataFrame:\\n\", df)\n",
    "\n",
    "numpy_array = df.to_numpy()\n",
    "print(\"\\nConverted to numpy array:\\n\", numpy_array)"
   ]
  },
  {
   "cell_type": "markdown",
   "id": "be18dfe2",
   "metadata": {},
   "source": [
    "# Listing 2.12 Convert to Pandas Dataframe"
   ]
  },
  {
   "cell_type": "code",
   "execution_count": 12,
   "id": "4d4bb7e0",
   "metadata": {},
   "outputs": [
    {
     "name": "stdout",
     "output_type": "stream",
     "text": [
      "Original numpy array:\n",
      " [[1 2 3]\n",
      " [4 5 6]\n",
      " [7 8 9]]\n",
      "\n",
      "Converted to DataFrame:\n",
      "    Column1  Column2  Column3\n",
      "0        1        2        3\n",
      "1        4        5        6\n",
      "2        7        8        9\n"
     ]
    }
   ],
   "source": [
    "import numpy as np\n",
    "import pandas as pd\n",
    "\n",
    "numpy_array = np.array([[1, 2, 3], [4, 5, 6], [7, 8, 9]])\n",
    "print(\"Original numpy array:\\n\", numpy_array)\n",
    "\n",
    "df = pd.DataFrame(numpy_array, columns=['Column1', 'Column2', 'Column3'])\n",
    "print(\"\\nConverted to DataFrame:\\n\", df)"
   ]
  },
  {
   "cell_type": "markdown",
   "id": "2bc5a81c",
   "metadata": {},
   "source": [
    "# Listing 2.13 Pandas Series"
   ]
  },
  {
   "cell_type": "code",
   "execution_count": 13,
   "id": "00249882",
   "metadata": {},
   "outputs": [
    {
     "name": "stdout",
     "output_type": "stream",
     "text": [
      "0    1\n",
      "1    2\n",
      "2    3\n",
      "Name: A, dtype: int64\n"
     ]
    }
   ],
   "source": [
    "import pandas as pd\n",
    "df = pd.DataFrame({'A': [1, 2, 3], 'B': [4, 5, 6]})\n",
    "series=df['A']\n",
    "print(series)"
   ]
  },
  {
   "cell_type": "markdown",
   "id": "bff543dd",
   "metadata": {},
   "source": [
    "# Listing 2.14 Pandas DataFrame"
   ]
  },
  {
   "cell_type": "code",
   "execution_count": 14,
   "id": "5818489b",
   "metadata": {},
   "outputs": [
    {
     "name": "stdout",
     "output_type": "stream",
     "text": [
      "      Name  Age         City\n",
      "0    Alice   25     New York\n",
      "1      Bob   30  Los Angeles\n",
      "2  Charlie   35      Chicago\n"
     ]
    }
   ],
   "source": [
    "data = {\n",
    "        'Name': ['Alice', 'Bob', 'Charlie'],\n",
    "        'Age': [25, 30, 35],\n",
    "        'City': ['New York', 'Los Angeles', 'Chicago']\n",
    "    }\n",
    "df = pd.DataFrame(data)\n",
    "print(df)"
   ]
  },
  {
   "cell_type": "markdown",
   "id": "2f620516",
   "metadata": {},
   "source": [
    "# Listing 2.15 Numpy Array"
   ]
  },
  {
   "cell_type": "code",
   "execution_count": 15,
   "id": "9217984d",
   "metadata": {},
   "outputs": [
    {
     "name": "stdout",
     "output_type": "stream",
     "text": [
      "[1 2 3 4 5]\n"
     ]
    }
   ],
   "source": [
    "import numpy as np\n",
    "array = np.array([1, 2, 3, 4, 5])\n",
    "print(array)"
   ]
  },
  {
   "cell_type": "markdown",
   "id": "2ef35694",
   "metadata": {},
   "source": [
    "# Listing 2.16 Numpy Matrix"
   ]
  },
  {
   "cell_type": "code",
   "execution_count": 16,
   "id": "ec621f1a",
   "metadata": {},
   "outputs": [
    {
     "name": "stdout",
     "output_type": "stream",
     "text": [
      "[[1 2 3]\n",
      " [4 5 6]\n",
      " [7 8 9]]\n"
     ]
    }
   ],
   "source": [
    "matrix = np.array([[1, 2, 3], [4, 5, 6], [7, 8, 9]])\n",
    "print(matrix)"
   ]
  },
  {
   "cell_type": "markdown",
   "id": "41eec1fb",
   "metadata": {},
   "source": [
    "# Listing 2.17 Creating Numpy Arrays"
   ]
  },
  {
   "cell_type": "code",
   "execution_count": 17,
   "id": "e7b61b9c",
   "metadata": {},
   "outputs": [
    {
     "name": "stdout",
     "output_type": "stream",
     "text": [
      "[[0. 0. 0.]\n",
      " [0. 0. 0.]\n",
      " [0. 0. 0.]]\n",
      "[[1. 1.]\n",
      " [1. 1.]]\n"
     ]
    }
   ],
   "source": [
    "zeros = np.zeros((3, 3))  \n",
    "ones = np.ones((2, 2))  \n",
    "print(zeros)\n",
    "print(ones)"
   ]
  },
  {
   "cell_type": "markdown",
   "id": "372983e6",
   "metadata": {},
   "source": [
    "# Listing 2.18 Array Operations"
   ]
  },
  {
   "cell_type": "code",
   "execution_count": 23,
   "id": "b7650a00",
   "metadata": {},
   "outputs": [
    {
     "name": "stdout",
     "output_type": "stream",
     "text": [
      "array1= [1 2 3]\n",
      "array2= [4 5 6]\n",
      "sum_array= [5 7 9]\n"
     ]
    }
   ],
   "source": [
    "array1 = np.array([1, 2, 3])\n",
    "array2 = np.array([4, 5, 6])\n",
    "sum_array = array1 + array2  \n",
    "print(\"array1=\",array1)\n",
    "print(\"array2=\",array2)\n",
    "print(\"sum_array=\",sum_array)"
   ]
  },
  {
   "cell_type": "markdown",
   "id": "4eaac1aa",
   "metadata": {},
   "source": [
    "# Listing 2.19 Mathematical Functions"
   ]
  },
  {
   "cell_type": "code",
   "execution_count": 27,
   "id": "7ae3ef6b",
   "metadata": {},
   "outputs": [
    {
     "name": "stdout",
     "output_type": "stream",
     "text": [
      "array= [1 2 3 4 5]\n",
      "square root= [1.         1.41421356 1.73205081 2.         2.23606798]\n",
      "mean= 3.0\n"
     ]
    }
   ],
   "source": [
    "array = np.array([1, 2, 3, 4, 5])\n",
    "print(\"array=\",array)\n",
    "print(\"square root=\",np.sqrt(array))  \n",
    "print(\"mean=\",np.mean(array))  "
   ]
  },
  {
   "cell_type": "markdown",
   "id": "99c37030",
   "metadata": {},
   "source": [
    "# Listing 2.20 Indexing and Slicing"
   ]
  },
  {
   "cell_type": "code",
   "execution_count": 30,
   "id": "fa336fce",
   "metadata": {},
   "outputs": [
    {
     "name": "stdout",
     "output_type": "stream",
     "text": [
      "array= [1 2 3 4 5]\n",
      "second element=array[1]= 2\n",
      "From second to fourth elements= [2 3 4]\n",
      "new array after changing third element value= [ 1  2 10  4  5]\n"
     ]
    }
   ],
   "source": [
    "array = np.array([1, 2, 3, 4, 5])\n",
    "print(\"array=\",array)\n",
    "print(\"second element=array[1]=\",array[1])  \n",
    "print(\"From second to fourth elements=\",  array[1:4]) \n",
    "array[2] = 10  \n",
    "print(\"new array after changing third element value=\",array)"
   ]
  },
  {
   "cell_type": "markdown",
   "id": "12c37b19",
   "metadata": {},
   "source": [
    "# Listing 2.21 Reshaping Arrays"
   ]
  },
  {
   "cell_type": "code",
   "execution_count": 21,
   "id": "0481e24c",
   "metadata": {},
   "outputs": [
    {
     "name": "stdout",
     "output_type": "stream",
     "text": [
      "[[1 2]\n",
      " [3 4]\n",
      " [5 6]]\n"
     ]
    }
   ],
   "source": [
    "array = np.array([[1, 2, 3], [4, 5, 6]])\n",
    "reshaped = array.reshape((3, 2))  \n",
    "print(reshaped)"
   ]
  }
 ],
 "metadata": {
  "kernelspec": {
   "display_name": "Python 3 (ipykernel)",
   "language": "python",
   "name": "python3"
  },
  "language_info": {
   "codemirror_mode": {
    "name": "ipython",
    "version": 3
   },
   "file_extension": ".py",
   "mimetype": "text/x-python",
   "name": "python",
   "nbconvert_exporter": "python",
   "pygments_lexer": "ipython3",
   "version": "3.9.7"
  }
 },
 "nbformat": 4,
 "nbformat_minor": 5
}
